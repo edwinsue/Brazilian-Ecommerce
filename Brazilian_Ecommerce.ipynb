{
 "cells": [
  {
   "cell_type": "code",
   "execution_count": 1,
   "metadata": {},
   "outputs": [],
   "source": [
    "import pandas as pd\n",
    "import statsmodels.formula.api as smf"
   ]
  },
  {
   "cell_type": "markdown",
   "metadata": {},
   "source": [
    "### We knew eventually the end goal was to plug a table into the following linear regresion formula"
   ]
  },
  {
   "cell_type": "code",
   "execution_count": 1,
   "metadata": {},
   "outputs": [],
   "source": [
    "formula = 'mpg ~ cylinders + displacement + horsepower + weight + acceleration + model + origin'"
   ]
  },
  {
   "cell_type": "markdown",
   "metadata": {},
   "source": [
    "### But first we would need to reorganize/join all our tables in SQL so that we could get to that last clean table where the columns could be plugged in cleanly one by one:"
   ]
  },
  {
   "cell_type": "code",
   "execution_count": 9,
   "metadata": {},
   "outputs": [
    {
     "ename": "SyntaxError",
     "evalue": "invalid syntax (<ipython-input-9-e13e1aa46b02>, line 1)",
     "output_type": "error",
     "traceback": [
      "\u001b[0;36m  File \u001b[0;32m\"<ipython-input-9-e13e1aa46b02>\"\u001b[0;36m, line \u001b[0;32m1\u001b[0m\n\u001b[0;31m    img src= \"/Users/EdwinSue/Desktop/NYTTP/R_Linear Regression Models/Brazilian_Ecommerce/Schema.png\"\u001b[0m\n\u001b[0m          ^\u001b[0m\n\u001b[0;31mSyntaxError\u001b[0m\u001b[0;31m:\u001b[0m invalid syntax\n"
     ]
    }
   ],
   "source": [
    "img src= \"/Users/EdwinSue/Desktop/NYTTP/R_Linear Regression Models/Brazilian_Ecommerce/Schema.png\""
   ]
  },
  {
   "cell_type": "markdown",
   "metadata": {},
   "source": [
    "### Below is the query we ended up settling on to create our base customer information. It tells us each customer and how much they have paid in total (i.e lifetime value)"
   ]
  },
  {
   "cell_type": "code",
   "execution_count": null,
   "metadata": {},
   "outputs": [],
   "source": [
    "SELECT\n",
    "customer_unique_id,\n",
    "COUNT(DISTINCT order_id) AS total_orders,\n",
    "MIN(order_purchase_timestamp) AS first_order,\n",
    "SUM(payment_value) AS total_paid\n",
    "FROM\n",
    "\t(SELECT\n",
    "\t*\n",
    "\tFROM\n",
    "\tolist_customers_dataset\n",
    "\tINNER JOIN olist_orders_dataset USING (customer_id)\n",
    "\tINNER JOIN order_payments USING (order_id)\n",
    "\tORDER BY customer_unique_id) AS source\n",
    "GROUP BY customer_unique_id\n",
    "ORDER BY total_orders DESC"
   ]
  },
  {
   "cell_type": "markdown",
   "metadata": {},
   "source": [
    "### Which produces the following table:"
   ]
  },
  {
   "cell_type": "code",
   "execution_count": 2,
   "metadata": {},
   "outputs": [],
   "source": [
    "customers = pd.read_csv(\"/Users/EdwinSue/Desktop/NYTTP/R_Linear Regression Models/Brazilian_Ecommerce/customer_total_payments.csv\")"
   ]
  },
  {
   "cell_type": "code",
   "execution_count": 5,
   "metadata": {},
   "outputs": [
    {
     "data": {
      "text/html": [
       "<div>\n",
       "<style scoped>\n",
       "    .dataframe tbody tr th:only-of-type {\n",
       "        vertical-align: middle;\n",
       "    }\n",
       "\n",
       "    .dataframe tbody tr th {\n",
       "        vertical-align: top;\n",
       "    }\n",
       "\n",
       "    .dataframe thead th {\n",
       "        text-align: right;\n",
       "    }\n",
       "</style>\n",
       "<table border=\"1\" class=\"dataframe\">\n",
       "  <thead>\n",
       "    <tr style=\"text-align: right;\">\n",
       "      <th></th>\n",
       "      <th>customer_unique_id</th>\n",
       "      <th>total_orders</th>\n",
       "      <th>first_order</th>\n",
       "      <th>total_paid</th>\n",
       "    </tr>\n",
       "  </thead>\n",
       "  <tbody>\n",
       "    <tr>\n",
       "      <td>0</td>\n",
       "      <td>8d50f5eadf50201ccdcedfb9e2ac8455</td>\n",
       "      <td>17</td>\n",
       "      <td>2017-05-15 23:30:00</td>\n",
       "      <td>927.63</td>\n",
       "    </tr>\n",
       "    <tr>\n",
       "      <td>1</td>\n",
       "      <td>3e43e6105506432c953e165fb2acf44c</td>\n",
       "      <td>9</td>\n",
       "      <td>2017-09-18 18:53:00</td>\n",
       "      <td>1172.66</td>\n",
       "    </tr>\n",
       "    <tr>\n",
       "      <td>2</td>\n",
       "      <td>1b6c7548a2a1f9037c1fd3ddfed95f33</td>\n",
       "      <td>7</td>\n",
       "      <td>2017-11-13 16:44:00</td>\n",
       "      <td>959.01</td>\n",
       "    </tr>\n",
       "    <tr>\n",
       "      <td>3</td>\n",
       "      <td>6469f99c1f9dfae7733b25662e7f1782</td>\n",
       "      <td>7</td>\n",
       "      <td>2017-09-19 01:02:00</td>\n",
       "      <td>758.83</td>\n",
       "    </tr>\n",
       "    <tr>\n",
       "      <td>4</td>\n",
       "      <td>ca77025e7201e3b30c44b472ff346268</td>\n",
       "      <td>7</td>\n",
       "      <td>2017-10-09 12:34:00</td>\n",
       "      <td>1122.72</td>\n",
       "    </tr>\n",
       "    <tr>\n",
       "      <td>5</td>\n",
       "      <td>de34b16117594161a6a89c50b289d35a</td>\n",
       "      <td>6</td>\n",
       "      <td>2017-11-03 00:16:00</td>\n",
       "      <td>660.94</td>\n",
       "    </tr>\n",
       "    <tr>\n",
       "      <td>6</td>\n",
       "      <td>dc813062e0fc23409cd255f7f53c7074</td>\n",
       "      <td>6</td>\n",
       "      <td>2017-07-01 04:22:00</td>\n",
       "      <td>1094.63</td>\n",
       "    </tr>\n",
       "    <tr>\n",
       "      <td>7</td>\n",
       "      <td>f0e310a6839dce9de1638e0fe5ab282a</td>\n",
       "      <td>6</td>\n",
       "      <td>2017-05-20 08:53:00</td>\n",
       "      <td>540.69</td>\n",
       "    </tr>\n",
       "    <tr>\n",
       "      <td>8</td>\n",
       "      <td>47c1a3033b8b77b3ab6e109eb4d5fdf3</td>\n",
       "      <td>6</td>\n",
       "      <td>2017-08-07 14:14:00</td>\n",
       "      <td>944.21</td>\n",
       "    </tr>\n",
       "    <tr>\n",
       "      <td>9</td>\n",
       "      <td>63cfc61cee11cbe306bff5857d00bfe4</td>\n",
       "      <td>6</td>\n",
       "      <td>2017-05-11 14:39:00</td>\n",
       "      <td>826.32</td>\n",
       "    </tr>\n",
       "  </tbody>\n",
       "</table>\n",
       "</div>"
      ],
      "text/plain": [
       "                 customer_unique_id  total_orders          first_order  \\\n",
       "0  8d50f5eadf50201ccdcedfb9e2ac8455            17  2017-05-15 23:30:00   \n",
       "1  3e43e6105506432c953e165fb2acf44c             9  2017-09-18 18:53:00   \n",
       "2  1b6c7548a2a1f9037c1fd3ddfed95f33             7  2017-11-13 16:44:00   \n",
       "3  6469f99c1f9dfae7733b25662e7f1782             7  2017-09-19 01:02:00   \n",
       "4  ca77025e7201e3b30c44b472ff346268             7  2017-10-09 12:34:00   \n",
       "5  de34b16117594161a6a89c50b289d35a             6  2017-11-03 00:16:00   \n",
       "6  dc813062e0fc23409cd255f7f53c7074             6  2017-07-01 04:22:00   \n",
       "7  f0e310a6839dce9de1638e0fe5ab282a             6  2017-05-20 08:53:00   \n",
       "8  47c1a3033b8b77b3ab6e109eb4d5fdf3             6  2017-08-07 14:14:00   \n",
       "9  63cfc61cee11cbe306bff5857d00bfe4             6  2017-05-11 14:39:00   \n",
       "\n",
       "   total_paid  \n",
       "0      927.63  \n",
       "1     1172.66  \n",
       "2      959.01  \n",
       "3      758.83  \n",
       "4     1122.72  \n",
       "5      660.94  \n",
       "6     1094.63  \n",
       "7      540.69  \n",
       "8      944.21  \n",
       "9      826.32  "
      ]
     },
     "execution_count": 5,
     "metadata": {},
     "output_type": "execute_result"
    }
   ],
   "source": [
    "customers.head(10)"
   ]
  },
  {
   "cell_type": "code",
   "execution_count": null,
   "metadata": {},
   "outputs": [],
   "source": []
  }
 ],
 "metadata": {
  "kernelspec": {
   "display_name": "Python 3",
   "language": "python",
   "name": "python3"
  },
  "language_info": {
   "codemirror_mode": {
    "name": "ipython",
    "version": 3
   },
   "file_extension": ".py",
   "mimetype": "text/x-python",
   "name": "python",
   "nbconvert_exporter": "python",
   "pygments_lexer": "ipython3",
   "version": "3.7.4"
  }
 },
 "nbformat": 4,
 "nbformat_minor": 2
}
